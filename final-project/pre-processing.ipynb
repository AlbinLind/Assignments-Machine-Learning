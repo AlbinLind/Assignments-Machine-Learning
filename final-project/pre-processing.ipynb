{
 "cells": [
  {
   "cell_type": "code",
   "execution_count": 97,
   "metadata": {},
   "outputs": [
    {
     "name": "stdout",
     "output_type": "stream",
     "text": [
      "Requirement already satisfied: xlrd in c:\\users\\albin\\appdata\\local\\packages\\pythonsoftwarefoundation.python.3.11_qbz5n2kfra8p0\\localcache\\local-packages\\python311\\site-packages (2.0.1)\n",
      "Note: you may need to restart the kernel to use updated packages.\n"
     ]
    },
    {
     "name": "stderr",
     "output_type": "stream",
     "text": [
      "\n",
      "[notice] A new release of pip available: 22.3 -> 22.3.1\n",
      "[notice] To update, run: C:\\Users\\Albin\\AppData\\Local\\Microsoft\\WindowsApps\\PythonSoftwareFoundation.Python.3.11_qbz5n2kfra8p0\\python.exe -m pip install --upgrade pip\n"
     ]
    }
   ],
   "source": [
    "import pandas as pd\n",
    "import numpy as np\n",
    "\n",
    "%pip install xlrd"
   ]
  },
  {
   "cell_type": "code",
   "execution_count": 98,
   "metadata": {},
   "outputs": [],
   "source": [
    "gez = pd.read_csv(\"gezondheid-2020.csv\", sep=\";\", index_col=\"Codering_3\")\n",
    "kwb = pd.read_excel(\"kwb-2019.xls\", index_col=\"gwb_code_10\", decimal=\",\")\n"
   ]
  },
  {
   "cell_type": "code",
   "execution_count": 99,
   "metadata": {},
   "outputs": [
    {
     "name": "stdout",
     "output_type": "stream",
     "text": [
      "524 codes are missing from on or the other dataset. That equates to approximately 3.022% of the codes.\n"
     ]
    }
   ],
   "source": [
    "# Find the amount rows that does not exists in gez and kwb\n",
    "miss_aligned_codes = set(gez.index) - set(kwb.index)\n",
    "print(\n",
    "    f\"{len(miss_aligned_codes)} codes are missing from on or the other dataset. That equates to approximately {len(miss_aligned_codes) / len(gez.index) * 100:.3f}% of the codes.\"\n",
    ")\n",
    "\n",
    "# Drop the rows where the code is missing\n",
    "kwb = kwb.drop(miss_aligned_codes, errors=\"ignore\")\n",
    "gez = gez.drop(miss_aligned_codes, errors=\"igore\")\n",
    "\n",
    "# The missing data is represented initially by a single dot. This will be replaced by np.nan, so that it can be correctly noted as missing and, handled appropiatley.\n",
    "kwb = kwb.replace(\".\", np.nan)\n"
   ]
  },
  {
   "cell_type": "markdown",
   "metadata": {},
   "source": [
    "## Load kwb-dataset\n"
   ]
  },
  {
   "cell_type": "code",
   "execution_count": 100,
   "metadata": {},
   "outputs": [
    {
     "data": {
      "text/html": [
       "<div>\n",
       "<style scoped>\n",
       "    .dataframe tbody tr th:only-of-type {\n",
       "        vertical-align: middle;\n",
       "    }\n",
       "\n",
       "    .dataframe tbody tr th {\n",
       "        vertical-align: top;\n",
       "    }\n",
       "\n",
       "    .dataframe thead th {\n",
       "        text-align: right;\n",
       "    }\n",
       "</style>\n",
       "<table border=\"1\" class=\"dataframe\">\n",
       "  <thead>\n",
       "    <tr style=\"text-align: right;\">\n",
       "      <th></th>\n",
       "      <th>gwb_code_8</th>\n",
       "      <th>regio</th>\n",
       "      <th>gm_naam</th>\n",
       "      <th>recs</th>\n",
       "      <th>gwb_code</th>\n",
       "      <th>ind_wbi</th>\n",
       "      <th>a_inw</th>\n",
       "      <th>a_man</th>\n",
       "      <th>a_vrouw</th>\n",
       "      <th>a_00_14</th>\n",
       "      <th>...</th>\n",
       "      <th>g_afs_kv</th>\n",
       "      <th>g_afs_sc</th>\n",
       "      <th>g_3km_sc</th>\n",
       "      <th>a_opp_ha</th>\n",
       "      <th>a_lan_ha</th>\n",
       "      <th>a_wat_ha</th>\n",
       "      <th>pst_mvp</th>\n",
       "      <th>pst_dekp</th>\n",
       "      <th>ste_mvs</th>\n",
       "      <th>ste_oad</th>\n",
       "    </tr>\n",
       "    <tr>\n",
       "      <th>gwb_code_10</th>\n",
       "      <th></th>\n",
       "      <th></th>\n",
       "      <th></th>\n",
       "      <th></th>\n",
       "      <th></th>\n",
       "      <th></th>\n",
       "      <th></th>\n",
       "      <th></th>\n",
       "      <th></th>\n",
       "      <th></th>\n",
       "      <th></th>\n",
       "      <th></th>\n",
       "      <th></th>\n",
       "      <th></th>\n",
       "      <th></th>\n",
       "      <th></th>\n",
       "      <th></th>\n",
       "      <th></th>\n",
       "      <th></th>\n",
       "      <th></th>\n",
       "      <th></th>\n",
       "    </tr>\n",
       "  </thead>\n",
       "  <tbody>\n",
       "    <tr>\n",
       "      <th>BU02220601</th>\n",
       "      <td>2220601</td>\n",
       "      <td>De Hoop-Noord</td>\n",
       "      <td>Doetinchem</td>\n",
       "      <td>Buurt</td>\n",
       "      <td>BU02220601</td>\n",
       "      <td>1</td>\n",
       "      <td>1015</td>\n",
       "      <td>500</td>\n",
       "      <td>510</td>\n",
       "      <td>155</td>\n",
       "      <td>...</td>\n",
       "      <td>1.2</td>\n",
       "      <td>0.4</td>\n",
       "      <td>11.1</td>\n",
       "      <td>36</td>\n",
       "      <td>34</td>\n",
       "      <td>2</td>\n",
       "      <td>7006</td>\n",
       "      <td>1</td>\n",
       "      <td>3</td>\n",
       "      <td>1343</td>\n",
       "    </tr>\n",
       "    <tr>\n",
       "      <th>GM0397</th>\n",
       "      <td>397</td>\n",
       "      <td>Heemstede</td>\n",
       "      <td>Heemstede</td>\n",
       "      <td>Gemeente</td>\n",
       "      <td>GM0397</td>\n",
       "      <td>NaN</td>\n",
       "      <td>27286</td>\n",
       "      <td>12900</td>\n",
       "      <td>14386</td>\n",
       "      <td>4826</td>\n",
       "      <td>...</td>\n",
       "      <td>0.6</td>\n",
       "      <td>0.6</td>\n",
       "      <td>14.7</td>\n",
       "      <td>964</td>\n",
       "      <td>918</td>\n",
       "      <td>47</td>\n",
       "      <td>NaN</td>\n",
       "      <td>NaN</td>\n",
       "      <td>2</td>\n",
       "      <td>1760</td>\n",
       "    </tr>\n",
       "    <tr>\n",
       "      <th>BU03637301</th>\n",
       "      <td>3637301</td>\n",
       "      <td>Schellingwoude Oost</td>\n",
       "      <td>Amsterdam</td>\n",
       "      <td>Buurt</td>\n",
       "      <td>BU03637301</td>\n",
       "      <td>1</td>\n",
       "      <td>605</td>\n",
       "      <td>295</td>\n",
       "      <td>305</td>\n",
       "      <td>135</td>\n",
       "      <td>...</td>\n",
       "      <td>1.5</td>\n",
       "      <td>1.9</td>\n",
       "      <td>7.6</td>\n",
       "      <td>68</td>\n",
       "      <td>66</td>\n",
       "      <td>2</td>\n",
       "      <td>1023</td>\n",
       "      <td>1</td>\n",
       "      <td>4</td>\n",
       "      <td>986</td>\n",
       "    </tr>\n",
       "    <tr>\n",
       "      <th>BU19001408</th>\n",
       "      <td>19001408</td>\n",
       "      <td>Verspreide huizen Burgwerd</td>\n",
       "      <td>Súdwest-Fryslân</td>\n",
       "      <td>Buurt</td>\n",
       "      <td>BU19001408</td>\n",
       "      <td>1</td>\n",
       "      <td>70</td>\n",
       "      <td>40</td>\n",
       "      <td>35</td>\n",
       "      <td>10</td>\n",
       "      <td>...</td>\n",
       "      <td>4.3</td>\n",
       "      <td>4.5</td>\n",
       "      <td>0.1</td>\n",
       "      <td>716</td>\n",
       "      <td>702</td>\n",
       "      <td>14</td>\n",
       "      <td>8742</td>\n",
       "      <td>1</td>\n",
       "      <td>5</td>\n",
       "      <td>24</td>\n",
       "    </tr>\n",
       "    <tr>\n",
       "      <th>WK038302</th>\n",
       "      <td>38302</td>\n",
       "      <td>Wijk 02 Castricum-Oost</td>\n",
       "      <td>Castricum</td>\n",
       "      <td>Wijk</td>\n",
       "      <td>WK038302</td>\n",
       "      <td>1</td>\n",
       "      <td>8470</td>\n",
       "      <td>4100</td>\n",
       "      <td>4370</td>\n",
       "      <td>1180</td>\n",
       "      <td>...</td>\n",
       "      <td>0.5</td>\n",
       "      <td>0.4</td>\n",
       "      <td>8.3</td>\n",
       "      <td>227</td>\n",
       "      <td>222</td>\n",
       "      <td>5</td>\n",
       "      <td>NaN</td>\n",
       "      <td>NaN</td>\n",
       "      <td>2</td>\n",
       "      <td>1774</td>\n",
       "    </tr>\n",
       "  </tbody>\n",
       "</table>\n",
       "<p>5 rows × 108 columns</p>\n",
       "</div>"
      ],
      "text/plain": [
       "             gwb_code_8                       regio          gm_naam  \\\n",
       "gwb_code_10                                                            \n",
       "BU02220601      2220601               De Hoop-Noord       Doetinchem   \n",
       "GM0397              397                   Heemstede        Heemstede   \n",
       "BU03637301      3637301         Schellingwoude Oost        Amsterdam   \n",
       "BU19001408     19001408  Verspreide huizen Burgwerd  Súdwest-Fryslân   \n",
       "WK038302          38302      Wijk 02 Castricum-Oost        Castricum   \n",
       "\n",
       "                 recs    gwb_code ind_wbi  a_inw  a_man  a_vrouw  a_00_14  \\\n",
       "gwb_code_10                                                                 \n",
       "BU02220601      Buurt  BU02220601       1   1015    500      510      155   \n",
       "GM0397       Gemeente      GM0397     NaN  27286  12900    14386     4826   \n",
       "BU03637301      Buurt  BU03637301       1    605    295      305      135   \n",
       "BU19001408      Buurt  BU19001408       1     70     40       35       10   \n",
       "WK038302         Wijk    WK038302       1   8470   4100     4370     1180   \n",
       "\n",
       "             ...  g_afs_kv  g_afs_sc  g_3km_sc  a_opp_ha  a_lan_ha  a_wat_ha  \\\n",
       "gwb_code_10  ...                                                               \n",
       "BU02220601   ...       1.2       0.4      11.1        36        34         2   \n",
       "GM0397       ...       0.6       0.6      14.7       964       918        47   \n",
       "BU03637301   ...       1.5       1.9       7.6        68        66         2   \n",
       "BU19001408   ...       4.3       4.5       0.1       716       702        14   \n",
       "WK038302     ...       0.5       0.4       8.3       227       222         5   \n",
       "\n",
       "             pst_mvp  pst_dekp  ste_mvs  ste_oad  \n",
       "gwb_code_10                                       \n",
       "BU02220601      7006         1        3     1343  \n",
       "GM0397           NaN       NaN        2     1760  \n",
       "BU03637301      1023         1        4      986  \n",
       "BU19001408      8742         1        5       24  \n",
       "WK038302         NaN       NaN        2     1774  \n",
       "\n",
       "[5 rows x 108 columns]"
      ]
     },
     "execution_count": 100,
     "metadata": {},
     "output_type": "execute_result"
    }
   ],
   "source": [
    "kwb.sample(5)\n"
   ]
  },
  {
   "cell_type": "markdown",
   "metadata": {},
   "source": [
    "## Load gezondheid-dataset\n"
   ]
  },
  {
   "cell_type": "code",
   "execution_count": 101,
   "metadata": {},
   "outputs": [
    {
     "data": {
      "text/html": [
       "<div>\n",
       "<style scoped>\n",
       "    .dataframe tbody tr th:only-of-type {\n",
       "        vertical-align: middle;\n",
       "    }\n",
       "\n",
       "    .dataframe tbody tr th {\n",
       "        vertical-align: top;\n",
       "    }\n",
       "\n",
       "    .dataframe thead th {\n",
       "        text-align: right;\n",
       "    }\n",
       "</style>\n",
       "<table border=\"1\" class=\"dataframe\">\n",
       "  <thead>\n",
       "    <tr style=\"text-align: right;\">\n",
       "      <th></th>\n",
       "      <th>ID</th>\n",
       "      <th>Leeftijd</th>\n",
       "      <th>Marges</th>\n",
       "      <th>WijkenEnBuurten</th>\n",
       "      <th>Perioden</th>\n",
       "      <th>Gemeentenaam_1</th>\n",
       "      <th>WekelijkseSporters_6</th>\n",
       "      <th>Eenzaam_28</th>\n",
       "    </tr>\n",
       "    <tr>\n",
       "      <th>Codering_3</th>\n",
       "      <th></th>\n",
       "      <th></th>\n",
       "      <th></th>\n",
       "      <th></th>\n",
       "      <th></th>\n",
       "      <th></th>\n",
       "      <th></th>\n",
       "      <th></th>\n",
       "    </tr>\n",
       "  </thead>\n",
       "  <tbody>\n",
       "    <tr>\n",
       "      <th>BU04390303</th>\n",
       "      <td>35999</td>\n",
       "      <td>20300</td>\n",
       "      <td>MW00000</td>\n",
       "      <td>BU04390303</td>\n",
       "      <td>2020JJ00</td>\n",
       "      <td>Purmerend</td>\n",
       "      <td>56.4</td>\n",
       "      <td>44.0</td>\n",
       "    </tr>\n",
       "    <tr>\n",
       "      <th>BU03638603</th>\n",
       "      <td>4223</td>\n",
       "      <td>20300</td>\n",
       "      <td>MW00000</td>\n",
       "      <td>BU03638603</td>\n",
       "      <td>2020JJ00</td>\n",
       "      <td>Amsterdam</td>\n",
       "      <td>67.2</td>\n",
       "      <td>50.1</td>\n",
       "    </tr>\n",
       "    <tr>\n",
       "      <th>BU06420206</th>\n",
       "      <td>51503</td>\n",
       "      <td>20300</td>\n",
       "      <td>MW00000</td>\n",
       "      <td>BU06420206</td>\n",
       "      <td>2020JJ00</td>\n",
       "      <td>Zwijndrecht</td>\n",
       "      <td>38.7</td>\n",
       "      <td>53.1</td>\n",
       "    </tr>\n",
       "    <tr>\n",
       "      <th>BU04060409</th>\n",
       "      <td>24383</td>\n",
       "      <td>20300</td>\n",
       "      <td>MW00000</td>\n",
       "      <td>BU04060409</td>\n",
       "      <td>2020JJ00</td>\n",
       "      <td>Huizen</td>\n",
       "      <td>60.9</td>\n",
       "      <td>35.8</td>\n",
       "    </tr>\n",
       "    <tr>\n",
       "      <th>BU00370500</th>\n",
       "      <td>39821</td>\n",
       "      <td>20300</td>\n",
       "      <td>MW00000</td>\n",
       "      <td>BU00370500</td>\n",
       "      <td>2020JJ00</td>\n",
       "      <td>Stadskanaal</td>\n",
       "      <td>35.0</td>\n",
       "      <td>45.7</td>\n",
       "    </tr>\n",
       "  </tbody>\n",
       "</table>\n",
       "</div>"
      ],
      "text/plain": [
       "               ID  Leeftijd   Marges WijkenEnBuurten  Perioden Gemeentenaam_1  \\\n",
       "Codering_3                                                                      \n",
       "BU04390303  35999     20300  MW00000      BU04390303  2020JJ00      Purmerend   \n",
       "BU03638603   4223     20300  MW00000      BU03638603  2020JJ00      Amsterdam   \n",
       "BU06420206  51503     20300  MW00000      BU06420206  2020JJ00    Zwijndrecht   \n",
       "BU04060409  24383     20300  MW00000      BU04060409  2020JJ00         Huizen   \n",
       "BU00370500  39821     20300  MW00000      BU00370500  2020JJ00    Stadskanaal   \n",
       "\n",
       "           WekelijkseSporters_6 Eenzaam_28  \n",
       "Codering_3                                  \n",
       "BU04390303                 56.4       44.0  \n",
       "BU03638603                 67.2       50.1  \n",
       "BU06420206                 38.7       53.1  \n",
       "BU04060409                 60.9       35.8  \n",
       "BU00370500                 35.0       45.7  "
      ]
     },
     "execution_count": 101,
     "metadata": {},
     "output_type": "execute_result"
    }
   ],
   "source": [
    "gez.sample(5)\n"
   ]
  },
  {
   "cell_type": "code",
   "execution_count": 102,
   "metadata": {},
   "outputs": [],
   "source": [
    "# Drop unnecessary columns\n",
    "gez = gez.drop(\n",
    "    [\"ID\", \"Leeftijd\", \"Marges\", \"Perioden\", \"Gemeentenaam_1\", \"WijkenEnBuurten\"],\n",
    "    axis=1,\n",
    "    errors=\"ignore\",\n",
    ")\n"
   ]
  },
  {
   "cell_type": "code",
   "execution_count": 103,
   "metadata": {},
   "outputs": [
    {
     "name": "stdout",
     "output_type": "stream",
     "text": [
      "<class 'pandas.core.frame.DataFrame'>\n",
      "Index: 16817 entries, GM1680 to BU01935210\n",
      "Data columns (total 2 columns):\n",
      " #   Column                Non-Null Count  Dtype \n",
      "---  ------                --------------  ----- \n",
      " 0   WekelijkseSporters_6  16817 non-null  object\n",
      " 1   Eenzaam_28            16817 non-null  object\n",
      "dtypes: object(2)\n",
      "memory usage: 394.1+ KB\n"
     ]
    }
   ],
   "source": [
    "gez.info()\n"
   ]
  },
  {
   "cell_type": "code",
   "execution_count": 104,
   "metadata": {},
   "outputs": [],
   "source": [
    "# Fix wrong dtype on the columns\n",
    "wrong_dtype = [\"WekelijkseSporters_6\", \"Eenzaam_28\"]\n",
    "gez[wrong_dtype] = gez[wrong_dtype].replace(\" .\", np.nan)\n",
    "gez[wrong_dtype] = gez[wrong_dtype].astype(float)\n"
   ]
  },
  {
   "cell_type": "code",
   "execution_count": 105,
   "metadata": {},
   "outputs": [
    {
     "data": {
      "text/html": [
       "<div>\n",
       "<style scoped>\n",
       "    .dataframe tbody tr th:only-of-type {\n",
       "        vertical-align: middle;\n",
       "    }\n",
       "\n",
       "    .dataframe tbody tr th {\n",
       "        vertical-align: top;\n",
       "    }\n",
       "\n",
       "    .dataframe thead th {\n",
       "        text-align: right;\n",
       "    }\n",
       "</style>\n",
       "<table border=\"1\" class=\"dataframe\">\n",
       "  <thead>\n",
       "    <tr style=\"text-align: right;\">\n",
       "      <th></th>\n",
       "      <th>WekelijkseSporters_6</th>\n",
       "      <th>Eenzaam_28</th>\n",
       "    </tr>\n",
       "  </thead>\n",
       "  <tbody>\n",
       "    <tr>\n",
       "      <th>count</th>\n",
       "      <td>16127.00</td>\n",
       "      <td>16127.00</td>\n",
       "    </tr>\n",
       "    <tr>\n",
       "      <th>mean</th>\n",
       "      <td>48.52</td>\n",
       "      <td>44.08</td>\n",
       "    </tr>\n",
       "    <tr>\n",
       "      <th>std</th>\n",
       "      <td>7.70</td>\n",
       "      <td>6.38</td>\n",
       "    </tr>\n",
       "    <tr>\n",
       "      <th>min</th>\n",
       "      <td>14.70</td>\n",
       "      <td>22.30</td>\n",
       "    </tr>\n",
       "    <tr>\n",
       "      <th>25%</th>\n",
       "      <td>43.30</td>\n",
       "      <td>39.40</td>\n",
       "    </tr>\n",
       "    <tr>\n",
       "      <th>50%</th>\n",
       "      <td>48.10</td>\n",
       "      <td>42.70</td>\n",
       "    </tr>\n",
       "    <tr>\n",
       "      <th>75%</th>\n",
       "      <td>53.50</td>\n",
       "      <td>47.70</td>\n",
       "    </tr>\n",
       "    <tr>\n",
       "      <th>max</th>\n",
       "      <td>75.40</td>\n",
       "      <td>79.50</td>\n",
       "    </tr>\n",
       "  </tbody>\n",
       "</table>\n",
       "</div>"
      ],
      "text/plain": [
       "       WekelijkseSporters_6  Eenzaam_28\n",
       "count              16127.00    16127.00\n",
       "mean                  48.52       44.08\n",
       "std                    7.70        6.38\n",
       "min                   14.70       22.30\n",
       "25%                   43.30       39.40\n",
       "50%                   48.10       42.70\n",
       "75%                   53.50       47.70\n",
       "max                   75.40       79.50"
      ]
     },
     "execution_count": 105,
     "metadata": {},
     "output_type": "execute_result"
    }
   ],
   "source": [
    "round(gez.describe(), 2)\n"
   ]
  },
  {
   "cell_type": "code",
   "execution_count": 106,
   "metadata": {},
   "outputs": [
    {
     "data": {
      "text/plain": [
       "WekelijkseSporters_6    4.102991\n",
       "Eenzaam_28              4.102991\n",
       "dtype: float64"
      ]
     },
     "execution_count": 106,
     "metadata": {},
     "output_type": "execute_result"
    }
   ],
   "source": [
    "gez.isna().sum() / len(gez) * 100\n"
   ]
  },
  {
   "attachments": {},
   "cell_type": "markdown",
   "metadata": {},
   "source": [
    "# Combine the Data\n"
   ]
  },
  {
   "cell_type": "code",
   "execution_count": 107,
   "metadata": {},
   "outputs": [],
   "source": [
    "combined = kwb.copy()\n",
    "combined[[\"sporting\", \"loneliness\"]] = gez[[\"WekelijkseSporters_6\", \"Eenzaam_28\"]]\n"
   ]
  },
  {
   "cell_type": "code",
   "execution_count": 108,
   "metadata": {},
   "outputs": [
    {
     "data": {
      "text/html": [
       "<div>\n",
       "<style scoped>\n",
       "    .dataframe tbody tr th:only-of-type {\n",
       "        vertical-align: middle;\n",
       "    }\n",
       "\n",
       "    .dataframe tbody tr th {\n",
       "        vertical-align: top;\n",
       "    }\n",
       "\n",
       "    .dataframe thead th {\n",
       "        text-align: right;\n",
       "    }\n",
       "</style>\n",
       "<table border=\"1\" class=\"dataframe\">\n",
       "  <thead>\n",
       "    <tr style=\"text-align: right;\">\n",
       "      <th></th>\n",
       "      <th>gwb_code_8</th>\n",
       "      <th>regio</th>\n",
       "      <th>gm_naam</th>\n",
       "      <th>recs</th>\n",
       "      <th>gwb_code</th>\n",
       "      <th>ind_wbi</th>\n",
       "      <th>a_inw</th>\n",
       "      <th>a_man</th>\n",
       "      <th>a_vrouw</th>\n",
       "      <th>a_00_14</th>\n",
       "      <th>...</th>\n",
       "      <th>g_3km_sc</th>\n",
       "      <th>a_opp_ha</th>\n",
       "      <th>a_lan_ha</th>\n",
       "      <th>a_wat_ha</th>\n",
       "      <th>pst_mvp</th>\n",
       "      <th>pst_dekp</th>\n",
       "      <th>ste_mvs</th>\n",
       "      <th>ste_oad</th>\n",
       "      <th>sporting</th>\n",
       "      <th>loneliness</th>\n",
       "    </tr>\n",
       "    <tr>\n",
       "      <th>gwb_code_10</th>\n",
       "      <th></th>\n",
       "      <th></th>\n",
       "      <th></th>\n",
       "      <th></th>\n",
       "      <th></th>\n",
       "      <th></th>\n",
       "      <th></th>\n",
       "      <th></th>\n",
       "      <th></th>\n",
       "      <th></th>\n",
       "      <th></th>\n",
       "      <th></th>\n",
       "      <th></th>\n",
       "      <th></th>\n",
       "      <th></th>\n",
       "      <th></th>\n",
       "      <th></th>\n",
       "      <th></th>\n",
       "      <th></th>\n",
       "      <th></th>\n",
       "      <th></th>\n",
       "    </tr>\n",
       "  </thead>\n",
       "  <tbody>\n",
       "    <tr>\n",
       "      <th>NL00</th>\n",
       "      <td>0</td>\n",
       "      <td>Nederland</td>\n",
       "      <td>Nederland</td>\n",
       "      <td>Land</td>\n",
       "      <td>NL00</td>\n",
       "      <td>NaN</td>\n",
       "      <td>17282163</td>\n",
       "      <td>8581086</td>\n",
       "      <td>8701077</td>\n",
       "      <td>2739819</td>\n",
       "      <td>...</td>\n",
       "      <td>10.9</td>\n",
       "      <td>4154338</td>\n",
       "      <td>3367109</td>\n",
       "      <td>787228</td>\n",
       "      <td>NaN</td>\n",
       "      <td>NaN</td>\n",
       "      <td>2</td>\n",
       "      <td>1994</td>\n",
       "      <td>NaN</td>\n",
       "      <td>NaN</td>\n",
       "    </tr>\n",
       "    <tr>\n",
       "      <th>GM0003</th>\n",
       "      <td>3</td>\n",
       "      <td>Appingedam</td>\n",
       "      <td>Appingedam</td>\n",
       "      <td>Gemeente</td>\n",
       "      <td>GM0003</td>\n",
       "      <td>NaN</td>\n",
       "      <td>11721</td>\n",
       "      <td>5720</td>\n",
       "      <td>6001</td>\n",
       "      <td>1718</td>\n",
       "      <td>...</td>\n",
       "      <td>6.4</td>\n",
       "      <td>2458</td>\n",
       "      <td>2378</td>\n",
       "      <td>80</td>\n",
       "      <td>NaN</td>\n",
       "      <td>NaN</td>\n",
       "      <td>3</td>\n",
       "      <td>1067</td>\n",
       "      <td>36.3</td>\n",
       "      <td>49.4</td>\n",
       "    </tr>\n",
       "    <tr>\n",
       "      <th>WK000300</th>\n",
       "      <td>300</td>\n",
       "      <td>Wijk 00</td>\n",
       "      <td>Appingedam</td>\n",
       "      <td>Wijk</td>\n",
       "      <td>WK000300</td>\n",
       "      <td>1</td>\n",
       "      <td>11720</td>\n",
       "      <td>5720</td>\n",
       "      <td>6000</td>\n",
       "      <td>1715</td>\n",
       "      <td>...</td>\n",
       "      <td>6.4</td>\n",
       "      <td>2458</td>\n",
       "      <td>2378</td>\n",
       "      <td>80</td>\n",
       "      <td>NaN</td>\n",
       "      <td>NaN</td>\n",
       "      <td>3</td>\n",
       "      <td>1067</td>\n",
       "      <td>36.3</td>\n",
       "      <td>49.4</td>\n",
       "    </tr>\n",
       "    <tr>\n",
       "      <th>BU00030000</th>\n",
       "      <td>30000</td>\n",
       "      <td>Appingedam-Centrum</td>\n",
       "      <td>Appingedam</td>\n",
       "      <td>Buurt</td>\n",
       "      <td>BU00030000</td>\n",
       "      <td>1</td>\n",
       "      <td>2370</td>\n",
       "      <td>1135</td>\n",
       "      <td>1230</td>\n",
       "      <td>230</td>\n",
       "      <td>...</td>\n",
       "      <td>7.1</td>\n",
       "      <td>90</td>\n",
       "      <td>84</td>\n",
       "      <td>5</td>\n",
       "      <td>9901</td>\n",
       "      <td>1</td>\n",
       "      <td>3</td>\n",
       "      <td>1210</td>\n",
       "      <td>35.4</td>\n",
       "      <td>51.6</td>\n",
       "    </tr>\n",
       "    <tr>\n",
       "      <th>BU00030001</th>\n",
       "      <td>30001</td>\n",
       "      <td>Appingedam-West</td>\n",
       "      <td>Appingedam</td>\n",
       "      <td>Buurt</td>\n",
       "      <td>BU00030001</td>\n",
       "      <td>1</td>\n",
       "      <td>3035</td>\n",
       "      <td>1505</td>\n",
       "      <td>1530</td>\n",
       "      <td>480</td>\n",
       "      <td>...</td>\n",
       "      <td>4.0</td>\n",
       "      <td>163</td>\n",
       "      <td>158</td>\n",
       "      <td>5</td>\n",
       "      <td>9903</td>\n",
       "      <td>6</td>\n",
       "      <td>4</td>\n",
       "      <td>903</td>\n",
       "      <td>41.5</td>\n",
       "      <td>41.5</td>\n",
       "    </tr>\n",
       "  </tbody>\n",
       "</table>\n",
       "<p>5 rows × 110 columns</p>\n",
       "</div>"
      ],
      "text/plain": [
       "             gwb_code_8               regio     gm_naam      recs    gwb_code  \\\n",
       "gwb_code_10                                                                     \n",
       "NL00                  0           Nederland   Nederland      Land        NL00   \n",
       "GM0003                3          Appingedam  Appingedam  Gemeente      GM0003   \n",
       "WK000300            300             Wijk 00  Appingedam      Wijk    WK000300   \n",
       "BU00030000        30000  Appingedam-Centrum  Appingedam     Buurt  BU00030000   \n",
       "BU00030001        30001     Appingedam-West  Appingedam     Buurt  BU00030001   \n",
       "\n",
       "            ind_wbi     a_inw    a_man  a_vrouw  a_00_14  ...  g_3km_sc  \\\n",
       "gwb_code_10                                               ...             \n",
       "NL00            NaN  17282163  8581086  8701077  2739819  ...      10.9   \n",
       "GM0003          NaN     11721     5720     6001     1718  ...       6.4   \n",
       "WK000300          1     11720     5720     6000     1715  ...       6.4   \n",
       "BU00030000        1      2370     1135     1230      230  ...       7.1   \n",
       "BU00030001        1      3035     1505     1530      480  ...       4.0   \n",
       "\n",
       "             a_opp_ha  a_lan_ha  a_wat_ha  pst_mvp  pst_dekp  ste_mvs  \\\n",
       "gwb_code_10                                                             \n",
       "NL00          4154338   3367109    787228      NaN       NaN        2   \n",
       "GM0003           2458      2378        80      NaN       NaN        3   \n",
       "WK000300         2458      2378        80      NaN       NaN        3   \n",
       "BU00030000         90        84         5     9901         1        3   \n",
       "BU00030001        163       158         5     9903         6        4   \n",
       "\n",
       "             ste_oad  sporting  loneliness  \n",
       "gwb_code_10                                 \n",
       "NL00            1994       NaN         NaN  \n",
       "GM0003          1067      36.3        49.4  \n",
       "WK000300        1067      36.3        49.4  \n",
       "BU00030000      1210      35.4        51.6  \n",
       "BU00030001       903      41.5        41.5  \n",
       "\n",
       "[5 rows x 110 columns]"
      ]
     },
     "execution_count": 108,
     "metadata": {},
     "output_type": "execute_result"
    }
   ],
   "source": [
    "combined.head()\n"
   ]
  },
  {
   "cell_type": "code",
   "execution_count": 109,
   "metadata": {},
   "outputs": [],
   "source": [
    "# Drop the first row, as it contains data for the whole Netherlands.\n",
    "combined = combined.drop(\"NL00\", errors=\"ignore\")\n",
    "\n",
    "# List of columns in combined, that is not needed\n",
    "\n",
    "columns_to_drop = [\n",
    "    \"gwb_code_8\",\n",
    "    \"regio\",\n",
    "    \"gm_naam\",\n",
    "    \"recs\",\n",
    "    \"gwb_code\",\n",
    "    \"ind_wbi\",\n",
    "    \"pst_mvp\",\n",
    "    \"pst_dekp\",\n",
    "]\n",
    "\n",
    "combined = combined.drop(columns_to_drop, axis=1, errors=\"ignore\")\n"
   ]
  },
  {
   "cell_type": "code",
   "execution_count": 110,
   "metadata": {
    "scrolled": true
   },
   "outputs": [
    {
     "name": "stdout",
     "output_type": "stream",
     "text": [
      "<class 'pandas.core.frame.DataFrame'>\n",
      "Index: 17113 entries, GM0003 to BU19782004\n",
      "Columns: 102 entries, a_inw to loneliness\n",
      "dtypes: float64(18), int64(36), object(48)\n",
      "memory usage: 13.4+ MB\n"
     ]
    }
   ],
   "source": [
    "combined.info()\n"
   ]
  },
  {
   "cell_type": "code",
   "execution_count": 111,
   "metadata": {},
   "outputs": [
    {
     "name": "stdout",
     "output_type": "stream",
     "text": [
      "<class 'pandas.core.frame.DataFrame'>\n",
      "Index: 17113 entries, GM0003 to BU19782004\n",
      "Columns: 102 entries, a_inw to loneliness\n",
      "dtypes: float64(66), int64(36)\n",
      "memory usage: 13.4+ MB\n"
     ]
    }
   ],
   "source": [
    "combined = combined.apply(pd.to_numeric)\n",
    "combined.info()\n"
   ]
  },
  {
   "cell_type": "markdown",
   "metadata": {},
   "source": [
    "# Missing Data\n"
   ]
  },
  {
   "cell_type": "code",
   "execution_count": 112,
   "metadata": {
    "scrolled": false
   },
   "outputs": [
    {
     "name": "stdout",
     "output_type": "stream",
     "text": [
      "g_ink_pi    100.000\n",
      "p_hh_hi     100.000\n",
      "a_inkont    100.000\n",
      "g_ink_po    100.000\n",
      "p_ink_hi    100.000\n",
      "             ...   \n",
      "g_3km_sc      3.939\n",
      "bev_dich      3.892\n",
      "g_hhgro       2.115\n",
      "ste_oad       0.397\n",
      "ste_mvs       0.386\n",
      "Length: 66, dtype: float64\n"
     ]
    }
   ],
   "source": [
    "# Percent of missing data\n",
    "print(\n",
    "    round(\n",
    "        combined.isna().sum().replace(0, np.nan).dropna() / len(combined) * 100, 3\n",
    "    ).sort_values(ascending=False)\n",
    ")\n",
    "\n",
    "# Since we have data that are missing in the \"predict\" columns, we will drop those rows.\n",
    "# Reason for having missing data there is most probably because of a missmatch in the gemeente codes from 2019 (kwb-dataset) and 2020 (gezondheid-dataset), and for the fact that some data was retracted for privacy reasons. This data was either way based on a small region, so it might even be good that it is removed.\n",
    "\n",
    "combined = combined.dropna(subset=[\"sporting\", \"loneliness\"])\n"
   ]
  },
  {
   "cell_type": "code",
   "execution_count": 113,
   "metadata": {},
   "outputs": [
    {
     "name": "stdout",
     "output_type": "stream",
     "text": [
      "Dropping 22 columns\n",
      "g_hhgro      0.062\n",
      "bev_dich     0.161\n",
      "g_woz       17.077\n",
      "p_1gezw      5.134\n",
      "p_mgezw      5.134\n",
      "p_bewndw     5.134\n",
      "p_leegsw     5.134\n",
      "p_koopw      5.159\n",
      "p_huurw      5.159\n",
      "p_wcorpw     5.159\n",
      "p_ov_hw      5.159\n",
      "p_e_o_w      5.159\n",
      "p_bjj2k      5.134\n",
      "p_bjo2k      5.134\n",
      "g_ele        2.728\n",
      "g_ele_vw    18.044\n",
      "g_ele_hu    18.801\n",
      "g_ele_ko     4.136\n",
      "g_gas        4.508\n",
      "g_gas_vw    18.974\n",
      "g_gas_hu    20.500\n",
      "g_gas_ko     5.779\n",
      "a_soz_wb     4.905\n",
      "a_soz_ao     4.905\n",
      "a_soz_ww     4.905\n",
      "a_soz_ow     4.905\n",
      "a_bed_a     12.836\n",
      "a_bed_bf    12.836\n",
      "a_bed_gi    12.836\n",
      "a_bed_hj    12.836\n",
      "a_bed_kl    12.836\n",
      "a_bed_mn    12.836\n",
      "a_bed_ru    12.836\n",
      "g_pau_hh    14.473\n",
      "g_pau_km    14.473\n",
      "g_afs_hp     0.211\n",
      "g_afs_gs     0.211\n",
      "g_afs_kv     0.211\n",
      "g_afs_sc     0.211\n",
      "g_3km_sc     0.211\n",
      "ste_mvs      0.012\n",
      "ste_oad      0.012\n",
      "dtype: float64\n"
     ]
    }
   ],
   "source": [
    "# Get all the columns with the proportion of missing values\n",
    "combined_missing_proportion = (\n",
    "    combined.isna().sum().replace(0, np.nan).dropna() / len(combined) * 100\n",
    ")\n",
    "\n",
    "# Drop the columns that have more than 25 percent missing values\n",
    "columns_to_drop = combined_missing_proportion[combined_missing_proportion > 25].index\n",
    "combined = combined.drop(columns=columns_to_drop)\n",
    "print(f\"Dropping {len(columns_to_drop)} columns\")\n",
    "\n",
    "# Percent of missing data\n",
    "print(round(combined.isna().sum().replace(0, np.nan).dropna() / len(combined) * 100, 3))\n"
   ]
  },
  {
   "cell_type": "code",
   "execution_count": 114,
   "metadata": {
    "scrolled": true
   },
   "outputs": [],
   "source": [
    "missing_data_sum = []\n",
    "steps = [i for i in range(1, 40)]\n",
    "\n",
    "for i in steps:\n",
    "    missing_data_sum.append(\n",
    "        combined.dropna(thresh=combined.shape[1] - i)\n",
    "        .isna()\n",
    "        .sum()\n",
    "        .replace(0, np.nan)\n",
    "        .dropna()\n",
    "        .sum()\n",
    "    )\n"
   ]
  },
  {
   "cell_type": "code",
   "execution_count": 115,
   "metadata": {},
   "outputs": [
    {
     "data": {
      "image/png": "[encoded data removed]",
      "text/plain": [
       "<Figure size 640x480 with 1 Axes>"
      ]
     },
     "metadata": {},
     "output_type": "display_data"
    }
   ],
   "source": [
    "import seaborn as sb\n",
    "import matplotlib.pyplot as plt\n",
    "\n",
    "plt.plot(missing_data_sum)\n",
    "plt.xlabel(\"# columns w/ missing data to drop the row\")\n",
    "plt.ylabel(\"total amount missing data\")\n",
    "plt.gca().invert_xaxis()\n",
    "plt.savefig(\"missing_row_plot.png\")\n"
   ]
  },
  {
   "cell_type": "code",
   "execution_count": 116,
   "metadata": {
    "scrolled": true
   },
   "outputs": [
    {
     "data": {
      "text/plain": [
       "49488"
      ]
     },
     "execution_count": 116,
     "metadata": {},
     "output_type": "execute_result"
    }
   ],
   "source": [
    "# No missing data left!\n",
    "combined.isna().sum().sum()\n"
   ]
  },
  {
   "cell_type": "code",
   "execution_count": 117,
   "metadata": {},
   "outputs": [],
   "source": [
    "combined.to_csv(\"pre-processed-data.csv\")\n"
   ]
  },
  {
   "cell_type": "code",
   "execution_count": 118,
   "metadata": {},
   "outputs": [
    {
     "name": "stdout",
     "output_type": "stream",
     "text": [
      "<class 'pandas.core.frame.DataFrame'>\n",
      "Index: 16127 entries, GM0003 to BU19782004\n",
      "Data columns (total 80 columns):\n",
      " #   Column      Non-Null Count  Dtype  \n",
      "---  ------      --------------  -----  \n",
      " 0   a_inw       16127 non-null  int64  \n",
      " 1   a_man       16127 non-null  int64  \n",
      " 2   a_vrouw     16127 non-null  int64  \n",
      " 3   a_00_14     16127 non-null  int64  \n",
      " 4   a_15_24     16127 non-null  int64  \n",
      " 5   a_25_44     16127 non-null  int64  \n",
      " 6   a_45_64     16127 non-null  int64  \n",
      " 7   a_65_oo     16127 non-null  int64  \n",
      " 8   a_ongeh     16127 non-null  int64  \n",
      " 9   a_gehuwd    16127 non-null  int64  \n",
      " 10  a_gesch     16127 non-null  int64  \n",
      " 11  a_verwed    16127 non-null  int64  \n",
      " 12  a_w_all     16127 non-null  int64  \n",
      " 13  a_nw_all    16127 non-null  int64  \n",
      " 14  a_marok     16127 non-null  int64  \n",
      " 15  a_antaru    16127 non-null  int64  \n",
      " 16  a_suri      16127 non-null  int64  \n",
      " 17  a_tur       16127 non-null  int64  \n",
      " 18  a_ov_nw     16127 non-null  int64  \n",
      " 19  a_geb       16127 non-null  int64  \n",
      " 20  p_geb       16127 non-null  int64  \n",
      " 21  a_ste       16127 non-null  int64  \n",
      " 22  p_ste       16127 non-null  int64  \n",
      " 23  a_hh        16127 non-null  int64  \n",
      " 24  a_1p_hh     16127 non-null  int64  \n",
      " 25  a_hh_z_k    16127 non-null  int64  \n",
      " 26  a_hh_m_k    16127 non-null  int64  \n",
      " 27  g_hhgro     16117 non-null  float64\n",
      " 28  bev_dich    16101 non-null  float64\n",
      " 29  a_woning    16127 non-null  int64  \n",
      " 30  g_woz       13373 non-null  float64\n",
      " 31  p_1gezw     15299 non-null  float64\n",
      " 32  p_mgezw     15299 non-null  float64\n",
      " 33  p_bewndw    15299 non-null  float64\n",
      " 34  p_leegsw    15299 non-null  float64\n",
      " 35  p_koopw     15295 non-null  float64\n",
      " 36  p_huurw     15295 non-null  float64\n",
      " 37  p_wcorpw    15295 non-null  float64\n",
      " 38  p_ov_hw     15295 non-null  float64\n",
      " 39  p_e_o_w     15295 non-null  float64\n",
      " 40  p_bjj2k     15299 non-null  float64\n",
      " 41  p_bjo2k     15299 non-null  float64\n",
      " 42  g_ele       15687 non-null  float64\n",
      " 43  g_ele_vw    13217 non-null  float64\n",
      " 44  g_ele_hu    13095 non-null  float64\n",
      " 45  g_ele_ko    15460 non-null  float64\n",
      " 46  g_gas       15400 non-null  float64\n",
      " 47  g_gas_vw    13067 non-null  float64\n",
      " 48  g_gas_hu    12821 non-null  float64\n",
      " 49  g_gas_ko    15195 non-null  float64\n",
      " 50  a_soz_wb    15336 non-null  float64\n",
      " 51  a_soz_ao    15336 non-null  float64\n",
      " 52  a_soz_ww    15336 non-null  float64\n",
      " 53  a_soz_ow    15336 non-null  float64\n",
      " 54  a_bedv      16127 non-null  int64  \n",
      " 55  a_bed_a     14057 non-null  float64\n",
      " 56  a_bed_bf    14057 non-null  float64\n",
      " 57  a_bed_gi    14057 non-null  float64\n",
      " 58  a_bed_hj    14057 non-null  float64\n",
      " 59  a_bed_kl    14057 non-null  float64\n",
      " 60  a_bed_mn    14057 non-null  float64\n",
      " 61  a_bed_ru    14057 non-null  float64\n",
      " 62  a_pau       16127 non-null  int64  \n",
      " 63  a_bst_b     16127 non-null  int64  \n",
      " 64  a_bst_nb    16127 non-null  int64  \n",
      " 65  g_pau_hh    13793 non-null  float64\n",
      " 66  g_pau_km    13793 non-null  float64\n",
      " 67  a_m2w       16127 non-null  int64  \n",
      " 68  g_afs_hp    16093 non-null  float64\n",
      " 69  g_afs_gs    16093 non-null  float64\n",
      " 70  g_afs_kv    16093 non-null  float64\n",
      " 71  g_afs_sc    16093 non-null  float64\n",
      " 72  g_3km_sc    16093 non-null  float64\n",
      " 73  a_opp_ha    16127 non-null  int64  \n",
      " 74  a_lan_ha    16127 non-null  int64  \n",
      " 75  a_wat_ha    16127 non-null  int64  \n",
      " 76  ste_mvs     16125 non-null  float64\n",
      " 77  ste_oad     16125 non-null  float64\n",
      " 78  sporting    16127 non-null  float64\n",
      " 79  loneliness  16127 non-null  float64\n",
      "dtypes: float64(44), int64(36)\n",
      "memory usage: 10.0+ MB\n"
     ]
    }
   ],
   "source": [
    "combined.info()\n"
   ]
  },
  {
   "cell_type": "code",
   "execution_count": 119,
   "metadata": {},
   "outputs": [
    {
     "data": {
      "text/plain": [
       "<AxesSubplot: >"
      ]
     },
     "execution_count": 119,
     "metadata": {},
     "output_type": "execute_result"
    },
    {
     "data": {
      "image/png": "[encoded data removed]",
      "text/plain": [
       "<Figure size 640x480 with 2 Axes>"
      ]
     },
     "metadata": {},
     "output_type": "display_data"
    }
   ],
   "source": [
    "# Ignore\n",
    "\n",
    "import seaborn as sb\n",
    "\n",
    "corr = abs(combined.corr())\n",
    "\n",
    "sb.heatmap(corr[[\"sporting\"]].sort_values(by=\"sporting\", ascending=False)[:10])\n"
   ]
  },
  {
   "cell_type": "code",
   "execution_count": 120,
   "metadata": {},
   "outputs": [
    {
     "data": {
      "text/plain": [
       "<AxesSubplot: >"
      ]
     },
     "execution_count": 120,
     "metadata": {},
     "output_type": "execute_result"
    },
    {
     "data": {
      "image/png": "[encoded data removed]",
      "text/plain": [
       "<Figure size 640x480 with 2 Axes>"
      ]
     },
     "metadata": {},
     "output_type": "display_data"
    }
   ],
   "source": [
    "sb.heatmap(corr[[\"loneliness\"]].sort_values(by=\"loneliness\", ascending=False)[:20])\n"
   ]
  }
 ],
 "metadata": {
  "kernelspec": {
   "display_name": "Python 3 (ipykernel)",
   "language": "python",
   "name": "python3"
  },
  "language_info": {
   "codemirror_mode": {
    "name": "ipython",
    "version": 3
   },
   "file_extension": ".py",
   "mimetype": "text/x-python",
   "name": "python",
   "nbconvert_exporter": "python",
   "pygments_lexer": "ipython3",
   "version": "3.11.0"
  },
  "vscode": {
   "interpreter": {
    "hash": "e0e68e1905cf76410184eff3c32cdb9c73fe6afd1987724612fb8659e31ade06"
   }
  }
 },
 "nbformat": 4,
 "nbformat_minor": 2
}
