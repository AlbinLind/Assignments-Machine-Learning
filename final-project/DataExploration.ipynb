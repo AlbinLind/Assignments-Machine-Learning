{
 "cells": [
  {
   "cell_type": "code",
   "execution_count": 133,
   "metadata": {},
   "outputs": [
    {
     "name": "stdout",
     "output_type": "stream",
     "text": [
      "Requirement already satisfied: xlrd in c:\\users\\albin\\appdata\\local\\packages\\pythonsoftwarefoundation.python.3.11_qbz5n2kfra8p0\\localcache\\local-packages\\python311\\site-packages (2.0.1)\n",
      "Note: you may need to restart the kernel to use updated packages.\n"
     ]
    },
    {
     "name": "stderr",
     "output_type": "stream",
     "text": [
      "\n",
      "[notice] A new release of pip available: 22.3 -> 22.3.1\n",
      "[notice] To update, run: C:\\Users\\Albin\\AppData\\Local\\Microsoft\\WindowsApps\\PythonSoftwareFoundation.Python.3.11_qbz5n2kfra8p0\\python.exe -m pip install --upgrade pip\n"
     ]
    }
   ],
   "source": [
    "import pandas as pd\n",
    "import numpy as np\n",
    "\n",
    "%pip install xlrd"
   ]
  },
  {
   "cell_type": "code",
   "execution_count": 134,
   "metadata": {},
   "outputs": [],
   "source": [
    "gez = pd.read_csv(\"gezondheid-2020.csv\", sep=\";\", index_col=\"Codering_3\")\n",
    "kwb = pd.read_excel(\"kwb-2019.xls\", index_col=\"gwb_code_10\")\n"
   ]
  },
  {
   "cell_type": "code",
   "execution_count": 135,
   "metadata": {},
   "outputs": [
    {
     "name": "stdout",
     "output_type": "stream",
     "text": [
      "524 codes are missing from on or the other dataset. That equates to approximately 3.022% of the codes.\n"
     ]
    }
   ],
   "source": [
    "# Find the amount rows that does not exists in gez and kwb\n",
    "miss_aligned_codes = set(gez.index) - set(kwb.index)\n",
    "print(\n",
    "    f\"{len(miss_aligned_codes)} codes are missing from on or the other dataset. That equates to approximately {len(miss_aligned_codes) / len(gez.index) * 100:.3f}% of the codes.\"\n",
    ")\n",
    "\n",
    "# Drop the rows where the code is missing\n",
    "kwb = kwb.drop(miss_aligned_codes, errors=\"ignore\")\n",
    "gez = gez.drop(miss_aligned_codes, errors=\"igore\")\n"
   ]
  },
  {
   "cell_type": "markdown",
   "metadata": {},
   "source": [
    "## Explore kwb-dataset\n"
   ]
  },
  {
   "cell_type": "code",
   "execution_count": 136,
   "metadata": {},
   "outputs": [
    {
     "data": {
      "text/html": [
       "<div>\n",
       "<style scoped>\n",
       "    .dataframe tbody tr th:only-of-type {\n",
       "        vertical-align: middle;\n",
       "    }\n",
       "\n",
       "    .dataframe tbody tr th {\n",
       "        vertical-align: top;\n",
       "    }\n",
       "\n",
       "    .dataframe thead th {\n",
       "        text-align: right;\n",
       "    }\n",
       "</style>\n",
       "<table border=\"1\" class=\"dataframe\">\n",
       "  <thead>\n",
       "    <tr style=\"text-align: right;\">\n",
       "      <th></th>\n",
       "      <th>gwb_code_8</th>\n",
       "      <th>regio</th>\n",
       "      <th>gm_naam</th>\n",
       "      <th>recs</th>\n",
       "      <th>gwb_code</th>\n",
       "      <th>ind_wbi</th>\n",
       "      <th>a_inw</th>\n",
       "      <th>a_man</th>\n",
       "      <th>a_vrouw</th>\n",
       "      <th>a_00_14</th>\n",
       "      <th>...</th>\n",
       "      <th>g_afs_kv</th>\n",
       "      <th>g_afs_sc</th>\n",
       "      <th>g_3km_sc</th>\n",
       "      <th>a_opp_ha</th>\n",
       "      <th>a_lan_ha</th>\n",
       "      <th>a_wat_ha</th>\n",
       "      <th>pst_mvp</th>\n",
       "      <th>pst_dekp</th>\n",
       "      <th>ste_mvs</th>\n",
       "      <th>ste_oad</th>\n",
       "    </tr>\n",
       "    <tr>\n",
       "      <th>gwb_code_10</th>\n",
       "      <th></th>\n",
       "      <th></th>\n",
       "      <th></th>\n",
       "      <th></th>\n",
       "      <th></th>\n",
       "      <th></th>\n",
       "      <th></th>\n",
       "      <th></th>\n",
       "      <th></th>\n",
       "      <th></th>\n",
       "      <th></th>\n",
       "      <th></th>\n",
       "      <th></th>\n",
       "      <th></th>\n",
       "      <th></th>\n",
       "      <th></th>\n",
       "      <th></th>\n",
       "      <th></th>\n",
       "      <th></th>\n",
       "      <th></th>\n",
       "      <th></th>\n",
       "    </tr>\n",
       "  </thead>\n",
       "  <tbody>\n",
       "    <tr>\n",
       "      <th>BU19522001</th>\n",
       "      <td>19522001</td>\n",
       "      <td>Zuidbroek</td>\n",
       "      <td>Midden-Groningen</td>\n",
       "      <td>Buurt</td>\n",
       "      <td>BU19522001</td>\n",
       "      <td>1</td>\n",
       "      <td>3445</td>\n",
       "      <td>1770</td>\n",
       "      <td>1675</td>\n",
       "      <td>485</td>\n",
       "      <td>...</td>\n",
       "      <td>1,1</td>\n",
       "      <td>1,0</td>\n",
       "      <td>2,0</td>\n",
       "      <td>572</td>\n",
       "      <td>550</td>\n",
       "      <td>22</td>\n",
       "      <td>9636</td>\n",
       "      <td>1</td>\n",
       "      <td>5</td>\n",
       "      <td>307</td>\n",
       "    </tr>\n",
       "    <tr>\n",
       "      <th>BU16800909</th>\n",
       "      <td>16800909</td>\n",
       "      <td>Verspreide huizen Oud-Annerveen</td>\n",
       "      <td>Aa en Hunze</td>\n",
       "      <td>Buurt</td>\n",
       "      <td>BU16800909</td>\n",
       "      <td>1</td>\n",
       "      <td>5</td>\n",
       "      <td>5</td>\n",
       "      <td>5</td>\n",
       "      <td>0</td>\n",
       "      <td>...</td>\n",
       "      <td>NaN</td>\n",
       "      <td>.</td>\n",
       "      <td>.</td>\n",
       "      <td>176</td>\n",
       "      <td>170</td>\n",
       "      <td>6</td>\n",
       "      <td>9655</td>\n",
       "      <td>1</td>\n",
       "      <td>5</td>\n",
       "      <td>24</td>\n",
       "    </tr>\n",
       "    <tr>\n",
       "      <th>WK016403</th>\n",
       "      <td>16403</td>\n",
       "      <td>Wijk 03 Hasseler Es</td>\n",
       "      <td>Hengelo</td>\n",
       "      <td>Wijk</td>\n",
       "      <td>WK016403</td>\n",
       "      <td>1</td>\n",
       "      <td>12350</td>\n",
       "      <td>6245</td>\n",
       "      <td>6105</td>\n",
       "      <td>2090</td>\n",
       "      <td>...</td>\n",
       "      <td>0,6</td>\n",
       "      <td>0,6</td>\n",
       "      <td>9,1</td>\n",
       "      <td>363</td>\n",
       "      <td>363</td>\n",
       "      <td>0</td>\n",
       "      <td>.</td>\n",
       "      <td>.</td>\n",
       "      <td>3</td>\n",
       "      <td>1349</td>\n",
       "    </tr>\n",
       "    <tr>\n",
       "      <th>WK172308</th>\n",
       "      <td>172308</td>\n",
       "      <td>Wijk 08 Verspreide huizen</td>\n",
       "      <td>Alphen-Chaam</td>\n",
       "      <td>Wijk</td>\n",
       "      <td>WK172308</td>\n",
       "      <td>1</td>\n",
       "      <td>435</td>\n",
       "      <td>225</td>\n",
       "      <td>210</td>\n",
       "      <td>45</td>\n",
       "      <td>...</td>\n",
       "      <td>1,4</td>\n",
       "      <td>2,1</td>\n",
       "      <td>1,7</td>\n",
       "      <td>1020</td>\n",
       "      <td>1011</td>\n",
       "      <td>9</td>\n",
       "      <td>.</td>\n",
       "      <td>.</td>\n",
       "      <td>5</td>\n",
       "      <td>70</td>\n",
       "    </tr>\n",
       "    <tr>\n",
       "      <th>BU03630107</th>\n",
       "      <td>3630107</td>\n",
       "      <td>Kalverdriehoek</td>\n",
       "      <td>Amsterdam</td>\n",
       "      <td>Buurt</td>\n",
       "      <td>BU03630107</td>\n",
       "      <td>1</td>\n",
       "      <td>265</td>\n",
       "      <td>150</td>\n",
       "      <td>110</td>\n",
       "      <td>10</td>\n",
       "      <td>...</td>\n",
       "      <td>0,4</td>\n",
       "      <td>0,9</td>\n",
       "      <td>36,9</td>\n",
       "      <td>6</td>\n",
       "      <td>5</td>\n",
       "      <td>1</td>\n",
       "      <td>1012</td>\n",
       "      <td>1</td>\n",
       "      <td>1</td>\n",
       "      <td>9674</td>\n",
       "    </tr>\n",
       "  </tbody>\n",
       "</table>\n",
       "<p>5 rows × 108 columns</p>\n",
       "</div>"
      ],
      "text/plain": [
       "             gwb_code_8                            regio           gm_naam  \\\n",
       "gwb_code_10                                                                  \n",
       "BU19522001     19522001                        Zuidbroek  Midden-Groningen   \n",
       "BU16800909     16800909  Verspreide huizen Oud-Annerveen       Aa en Hunze   \n",
       "WK016403          16403              Wijk 03 Hasseler Es           Hengelo   \n",
       "WK172308         172308        Wijk 08 Verspreide huizen      Alphen-Chaam   \n",
       "BU03630107      3630107                   Kalverdriehoek         Amsterdam   \n",
       "\n",
       "              recs    gwb_code ind_wbi  a_inw  a_man  a_vrouw  a_00_14  ...  \\\n",
       "gwb_code_10                                                             ...   \n",
       "BU19522001   Buurt  BU19522001       1   3445   1770     1675      485  ...   \n",
       "BU16800909   Buurt  BU16800909       1      5      5        5        0  ...   \n",
       "WK016403      Wijk    WK016403       1  12350   6245     6105     2090  ...   \n",
       "WK172308      Wijk    WK172308       1    435    225      210       45  ...   \n",
       "BU03630107   Buurt  BU03630107       1    265    150      110       10  ...   \n",
       "\n",
       "             g_afs_kv  g_afs_sc  g_3km_sc  a_opp_ha  a_lan_ha  a_wat_ha  \\\n",
       "gwb_code_10                                                               \n",
       "BU19522001        1,1       1,0       2,0       572       550        22   \n",
       "BU16800909        NaN         .         .       176       170         6   \n",
       "WK016403          0,6       0,6       9,1       363       363         0   \n",
       "WK172308          1,4       2,1       1,7      1020      1011         9   \n",
       "BU03630107        0,4       0,9      36,9         6         5         1   \n",
       "\n",
       "             pst_mvp  pst_dekp  ste_mvs  ste_oad  \n",
       "gwb_code_10                                       \n",
       "BU19522001      9636         1        5      307  \n",
       "BU16800909      9655         1        5       24  \n",
       "WK016403           .         .        3     1349  \n",
       "WK172308           .         .        5       70  \n",
       "BU03630107      1012         1        1     9674  \n",
       "\n",
       "[5 rows x 108 columns]"
      ]
     },
     "execution_count": 136,
     "metadata": {},
     "output_type": "execute_result"
    }
   ],
   "source": [
    "kwb.sample(5)\n"
   ]
  },
  {
   "cell_type": "code",
   "execution_count": 137,
   "metadata": {},
   "outputs": [
    {
     "name": "stdout",
     "output_type": "stream",
     "text": [
      "a_inkont    100.000000\n",
      "g_ink_po    100.000000\n",
      "g_ink_pi    100.000000\n",
      "p_ink_li    100.000000\n",
      "p_ink_hi    100.000000\n",
      "p_n_act     100.000000\n",
      "p_hh_li     100.000000\n",
      "p_hh_hi     100.000000\n",
      "p_hh_lkk    100.000000\n",
      "p_hh_osm    100.000000\n",
      "g_wodief    100.000000\n",
      "g_vernoo    100.000000\n",
      "g_gewsek    100.000000\n",
      "g_afs_hp      3.938296\n",
      "g_afs_gs      3.938296\n",
      "g_afs_kv      3.938296\n",
      "ste_oad       0.011686\n",
      "dtype: float64\n"
     ]
    }
   ],
   "source": [
    "# Get all the columns with the proportion of missing values\n",
    "kwb_missing_proportion = kwb.isna().sum().replace(0, np.nan).dropna() / len(kwb) * 100\n",
    "print(kwb_missing_proportion)\n",
    "\n",
    "# Drop the columns that have more than 50 percent missing values\n",
    "columns_to_drop = kwb_missing_proportion[kwb_missing_proportion > 50].index\n",
    "kwb = kwb.drop(columns=columns_to_drop)\n"
   ]
  },
  {
   "cell_type": "code",
   "execution_count": 138,
   "metadata": {},
   "outputs": [
    {
     "data": {
      "text/plain": [
       "g_afs_hp    3.938296\n",
       "g_afs_gs    3.938296\n",
       "g_afs_kv    3.938296\n",
       "ste_oad     0.011686\n",
       "dtype: float64"
      ]
     },
     "execution_count": 138,
     "metadata": {},
     "output_type": "execute_result"
    }
   ],
   "source": [
    "# Make sure the columns are correctly dropped\n",
    "kwb.isna().sum().replace(0, np.nan).dropna() / len(kwb) * 100\n"
   ]
  },
  {
   "cell_type": "markdown",
   "metadata": {},
   "source": [
    "## Explore gezondheid-dataset\n"
   ]
  },
  {
   "cell_type": "code",
   "execution_count": 139,
   "metadata": {},
   "outputs": [
    {
     "data": {
      "text/html": [
       "<div>\n",
       "<style scoped>\n",
       "    .dataframe tbody tr th:only-of-type {\n",
       "        vertical-align: middle;\n",
       "    }\n",
       "\n",
       "    .dataframe tbody tr th {\n",
       "        vertical-align: top;\n",
       "    }\n",
       "\n",
       "    .dataframe thead th {\n",
       "        text-align: right;\n",
       "    }\n",
       "</style>\n",
       "<table border=\"1\" class=\"dataframe\">\n",
       "  <thead>\n",
       "    <tr style=\"text-align: right;\">\n",
       "      <th></th>\n",
       "      <th>ID</th>\n",
       "      <th>Leeftijd</th>\n",
       "      <th>Marges</th>\n",
       "      <th>WijkenEnBuurten</th>\n",
       "      <th>Perioden</th>\n",
       "      <th>Gemeentenaam_1</th>\n",
       "      <th>WekelijkseSporters_6</th>\n",
       "      <th>Eenzaam_28</th>\n",
       "    </tr>\n",
       "    <tr>\n",
       "      <th>Codering_3</th>\n",
       "      <th></th>\n",
       "      <th></th>\n",
       "      <th></th>\n",
       "      <th></th>\n",
       "      <th></th>\n",
       "      <th></th>\n",
       "      <th></th>\n",
       "      <th></th>\n",
       "    </tr>\n",
       "  </thead>\n",
       "  <tbody>\n",
       "    <tr>\n",
       "      <th>BU02288051</th>\n",
       "      <td>13778</td>\n",
       "      <td>20300</td>\n",
       "      <td>MW00000</td>\n",
       "      <td>BU02288051</td>\n",
       "      <td>2020JJ00</td>\n",
       "      <td>Ede</td>\n",
       "      <td>36.7</td>\n",
       "      <td>41.0</td>\n",
       "    </tr>\n",
       "    <tr>\n",
       "      <th>BU00860902</th>\n",
       "      <td>34685</td>\n",
       "      <td>20300</td>\n",
       "      <td>MW00000</td>\n",
       "      <td>BU00860902</td>\n",
       "      <td>2020JJ00</td>\n",
       "      <td>Opsterland</td>\n",
       "      <td>48.9</td>\n",
       "      <td>37.1</td>\n",
       "    </tr>\n",
       "    <tr>\n",
       "      <th>BU05300800</th>\n",
       "      <td>21377</td>\n",
       "      <td>20300</td>\n",
       "      <td>MW00000</td>\n",
       "      <td>BU05300800</td>\n",
       "      <td>2020JJ00</td>\n",
       "      <td>Hellevoetsluis</td>\n",
       "      <td>47.7</td>\n",
       "      <td>43.2</td>\n",
       "    </tr>\n",
       "    <tr>\n",
       "      <th>BU03071903</th>\n",
       "      <td>2354</td>\n",
       "      <td>20300</td>\n",
       "      <td>MW00000</td>\n",
       "      <td>BU03071903</td>\n",
       "      <td>2020JJ00</td>\n",
       "      <td>Amersfoort</td>\n",
       "      <td>49.7</td>\n",
       "      <td>43.4</td>\n",
       "    </tr>\n",
       "    <tr>\n",
       "      <th>BU19305001</th>\n",
       "      <td>32222</td>\n",
       "      <td>20300</td>\n",
       "      <td>MW00000</td>\n",
       "      <td>BU19305001</td>\n",
       "      <td>2020JJ00</td>\n",
       "      <td>Nissewaard</td>\n",
       "      <td>47.7</td>\n",
       "      <td>43.1</td>\n",
       "    </tr>\n",
       "  </tbody>\n",
       "</table>\n",
       "</div>"
      ],
      "text/plain": [
       "               ID  Leeftijd   Marges WijkenEnBuurten  Perioden  \\\n",
       "Codering_3                                                       \n",
       "BU02288051  13778     20300  MW00000      BU02288051  2020JJ00   \n",
       "BU00860902  34685     20300  MW00000      BU00860902  2020JJ00   \n",
       "BU05300800  21377     20300  MW00000      BU05300800  2020JJ00   \n",
       "BU03071903   2354     20300  MW00000      BU03071903  2020JJ00   \n",
       "BU19305001  32222     20300  MW00000      BU19305001  2020JJ00   \n",
       "\n",
       "            Gemeentenaam_1 WekelijkseSporters_6 Eenzaam_28  \n",
       "Codering_3                                                  \n",
       "BU02288051             Ede                 36.7       41.0  \n",
       "BU00860902      Opsterland                 48.9       37.1  \n",
       "BU05300800  Hellevoetsluis                 47.7       43.2  \n",
       "BU03071903      Amersfoort                 49.7       43.4  \n",
       "BU19305001      Nissewaard                 47.7       43.1  "
      ]
     },
     "execution_count": 139,
     "metadata": {},
     "output_type": "execute_result"
    }
   ],
   "source": [
    "gez.sample(5)\n"
   ]
  },
  {
   "cell_type": "code",
   "execution_count": 140,
   "metadata": {},
   "outputs": [],
   "source": [
    "# Drop unnecessary columns\n",
    "gez = gez.drop(\n",
    "    [\"ID\", \"Leeftijd\", \"Marges\", \"Perioden\", \"Gemeentenaam_1\", \"WijkenEnBuurten\"],\n",
    "    axis=1,\n",
    "    errors=\"ignore\",\n",
    ")\n"
   ]
  },
  {
   "cell_type": "code",
   "execution_count": 141,
   "metadata": {},
   "outputs": [
    {
     "name": "stdout",
     "output_type": "stream",
     "text": [
      "<class 'pandas.core.frame.DataFrame'>\n",
      "Index: 16817 entries, GM1680 to BU01935210\n",
      "Data columns (total 2 columns):\n",
      " #   Column                Non-Null Count  Dtype \n",
      "---  ------                --------------  ----- \n",
      " 0   WekelijkseSporters_6  16817 non-null  object\n",
      " 1   Eenzaam_28            16817 non-null  object\n",
      "dtypes: object(2)\n",
      "memory usage: 394.1+ KB\n"
     ]
    }
   ],
   "source": [
    "gez.info()\n"
   ]
  },
  {
   "cell_type": "code",
   "execution_count": 142,
   "metadata": {},
   "outputs": [],
   "source": [
    "# Fix wrong dtype on the columns\n",
    "wrong_dtype = [\"WekelijkseSporters_6\", \"Eenzaam_28\"]\n",
    "gez[wrong_dtype] = gez[wrong_dtype].replace(\" .\", np.nan)\n",
    "gez[wrong_dtype] = gez[wrong_dtype].astype(float)\n"
   ]
  },
  {
   "cell_type": "code",
   "execution_count": 143,
   "metadata": {},
   "outputs": [
    {
     "data": {
      "text/html": [
       "<div>\n",
       "<style scoped>\n",
       "    .dataframe tbody tr th:only-of-type {\n",
       "        vertical-align: middle;\n",
       "    }\n",
       "\n",
       "    .dataframe tbody tr th {\n",
       "        vertical-align: top;\n",
       "    }\n",
       "\n",
       "    .dataframe thead th {\n",
       "        text-align: right;\n",
       "    }\n",
       "</style>\n",
       "<table border=\"1\" class=\"dataframe\">\n",
       "  <thead>\n",
       "    <tr style=\"text-align: right;\">\n",
       "      <th></th>\n",
       "      <th>WekelijkseSporters_6</th>\n",
       "      <th>Eenzaam_28</th>\n",
       "    </tr>\n",
       "  </thead>\n",
       "  <tbody>\n",
       "    <tr>\n",
       "      <th>count</th>\n",
       "      <td>16127.00</td>\n",
       "      <td>16127.00</td>\n",
       "    </tr>\n",
       "    <tr>\n",
       "      <th>mean</th>\n",
       "      <td>48.52</td>\n",
       "      <td>44.08</td>\n",
       "    </tr>\n",
       "    <tr>\n",
       "      <th>std</th>\n",
       "      <td>7.70</td>\n",
       "      <td>6.38</td>\n",
       "    </tr>\n",
       "    <tr>\n",
       "      <th>min</th>\n",
       "      <td>14.70</td>\n",
       "      <td>22.30</td>\n",
       "    </tr>\n",
       "    <tr>\n",
       "      <th>25%</th>\n",
       "      <td>43.30</td>\n",
       "      <td>39.40</td>\n",
       "    </tr>\n",
       "    <tr>\n",
       "      <th>50%</th>\n",
       "      <td>48.10</td>\n",
       "      <td>42.70</td>\n",
       "    </tr>\n",
       "    <tr>\n",
       "      <th>75%</th>\n",
       "      <td>53.50</td>\n",
       "      <td>47.70</td>\n",
       "    </tr>\n",
       "    <tr>\n",
       "      <th>max</th>\n",
       "      <td>75.40</td>\n",
       "      <td>79.50</td>\n",
       "    </tr>\n",
       "  </tbody>\n",
       "</table>\n",
       "</div>"
      ],
      "text/plain": [
       "       WekelijkseSporters_6  Eenzaam_28\n",
       "count              16127.00    16127.00\n",
       "mean                  48.52       44.08\n",
       "std                    7.70        6.38\n",
       "min                   14.70       22.30\n",
       "25%                   43.30       39.40\n",
       "50%                   48.10       42.70\n",
       "75%                   53.50       47.70\n",
       "max                   75.40       79.50"
      ]
     },
     "execution_count": 143,
     "metadata": {},
     "output_type": "execute_result"
    }
   ],
   "source": [
    "round(gez.describe(), 2)\n"
   ]
  },
  {
   "cell_type": "code",
   "execution_count": 144,
   "metadata": {},
   "outputs": [
    {
     "data": {
      "text/plain": [
       "WekelijkseSporters_6    4.102991\n",
       "Eenzaam_28              4.102991\n",
       "dtype: float64"
      ]
     },
     "execution_count": 144,
     "metadata": {},
     "output_type": "execute_result"
    }
   ],
   "source": [
    "gez.isna().sum() / len(gez) * 100\n"
   ]
  },
  {
   "cell_type": "code",
   "execution_count": 158,
   "metadata": {},
   "outputs": [],
   "source": [
    "df = kwb.copy()\n",
    "df[[\"sporting\", \"loneliness\"]] = gez[[\"WekelijkseSporters_6\", \"Eenzaam_28\"]]\n"
   ]
  },
  {
   "cell_type": "code",
   "execution_count": 160,
   "metadata": {},
   "outputs": [],
   "source": [
    "df.to_csv(\"pre-processed-data.csv\")\n"
   ]
  }
 ],
 "metadata": {
  "kernelspec": {
   "display_name": "Python 3.11.0 64-bit (microsoft store)",
   "language": "python",
   "name": "python3"
  },
  "language_info": {
   "codemirror_mode": {
    "name": "ipython",
    "version": 3
   },
   "file_extension": ".py",
   "mimetype": "text/x-python",
   "name": "python",
   "nbconvert_exporter": "python",
   "pygments_lexer": "ipython3",
   "version": "3.11.0"
  },
  "orig_nbformat": 4,
  "vscode": {
   "interpreter": {
    "hash": "e0e68e1905cf76410184eff3c32cdb9c73fe6afd1987724612fb8659e31ade06"
   }
  }
 },
 "nbformat": 4,
 "nbformat_minor": 2
}
